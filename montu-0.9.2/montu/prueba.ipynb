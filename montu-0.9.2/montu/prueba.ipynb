{
 "cells": [
  {
   "cell_type": "code",
   "execution_count": 2,
   "metadata": {},
   "outputs": [],
   "source": [
    "from __cycle_0 import MonTime"
   ]
  },
  {
   "cell_type": "code",
   "execution_count": 3,
   "metadata": {},
   "outputs": [
    {
     "ename": "TypeError",
     "evalue": "MonTime.__init__() got an unexpected keyword argument 'calendar'",
     "output_type": "error",
     "traceback": [
      "\u001b[0;31m---------------------------------------------------------------------------\u001b[0m",
      "\u001b[0;31mTypeError\u001b[0m                                 Traceback (most recent call last)",
      "Cell \u001b[0;32mIn[3], line 1\u001b[0m\n\u001b[0;32m----> 1\u001b[0m mtime \u001b[39m=\u001b[39m MonTime(\u001b[39m'\u001b[39;49m\u001b[39m-2500-01-01 12:00:00.00\u001b[39;49m\u001b[39m'\u001b[39;49m,\u001b[39mformat\u001b[39;49m\u001b[39m=\u001b[39;49m\u001b[39m'\u001b[39;49m\u001b[39miso\u001b[39;49m\u001b[39m'\u001b[39;49m,scale\u001b[39m=\u001b[39;49m\u001b[39m'\u001b[39;49m\u001b[39mutc\u001b[39;49m\u001b[39m'\u001b[39;49m,calendar\u001b[39m=\u001b[39;49m\u001b[39m'\u001b[39;49m\u001b[39mproleptic\u001b[39;49m\u001b[39m'\u001b[39;49m)\n",
      "\u001b[0;31mTypeError\u001b[0m: MonTime.__init__() got an unexpected keyword argument 'calendar'"
     ]
    }
   ],
   "source": [
    "mtime = MonTime('-2500-01-01 12:00:00.00',format='iso',scale='utc',calendar='proleptic')\n"
   ]
  },
  {
   "cell_type": "code",
   "execution_count": null,
   "metadata": {},
   "outputs": [],
   "source": []
  }
 ],
 "metadata": {
  "kernelspec": {
   "display_name": "Python 3",
   "language": "python",
   "name": "python3"
  },
  "language_info": {
   "codemirror_mode": {
    "name": "ipython",
    "version": 3
   },
   "file_extension": ".py",
   "mimetype": "text/x-python",
   "name": "python",
   "nbconvert_exporter": "python",
   "pygments_lexer": "ipython3",
   "version": "3.10.7"
  },
  "orig_nbformat": 4
 },
 "nbformat": 4,
 "nbformat_minor": 2
}
